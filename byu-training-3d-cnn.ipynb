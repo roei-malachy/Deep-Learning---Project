{
 "cells": [
  {
   "cell_type": "code",
   "execution_count": 1,
   "id": "218d9e90",
   "metadata": {
    "_cell_guid": "b1076dfc-b9ad-4769-8c92-a6c4dae69d19",
    "_uuid": "8f2839f25d086af736a60e9eeb907d3b93b6e0e5",
    "execution": {
     "iopub.execute_input": "2025-06-11T15:34:40.068945Z",
     "iopub.status.busy": "2025-06-11T15:34:40.068426Z",
     "iopub.status.idle": "2025-06-11T15:34:47.283139Z",
     "shell.execute_reply": "2025-06-11T15:34:47.282524Z"
    },
    "papermill": {
     "duration": 7.219334,
     "end_time": "2025-06-11T15:34:47.284515",
     "exception": false,
     "start_time": "2025-06-11T15:34:40.065181",
     "status": "completed"
    },
    "tags": []
   },
   "outputs": [],
   "source": [
    "import os\n",
    "import torch\n",
    "import torch.nn as nn\n",
    "import torch.nn.functional as F\n",
    "from torch.utils.data import Dataset, DataLoader\n",
    "import pandas as pd\n",
    "import numpy as np\n",
    "from PIL import Image\n",
    "from scipy.ndimage import zoom\n",
    "from torch.amp import autocast, GradScaler\n",
    "from sklearn.metrics import fbeta_score\n",
    "from tqdm import tqdm"
   ]
  },
  {
   "cell_type": "code",
   "execution_count": 2,
   "id": "f1947796",
   "metadata": {
    "execution": {
     "iopub.execute_input": "2025-06-11T15:34:47.290471Z",
     "iopub.status.busy": "2025-06-11T15:34:47.289893Z",
     "iopub.status.idle": "2025-06-11T15:34:47.301589Z",
     "shell.execute_reply": "2025-06-11T15:34:47.300834Z"
    },
    "papermill": {
     "duration": 0.015685,
     "end_time": "2025-06-11T15:34:47.302728",
     "exception": false,
     "start_time": "2025-06-11T15:34:47.287043",
     "status": "completed"
    },
    "tags": []
   },
   "outputs": [],
   "source": [
    "class MotorVolumeDataset(Dataset):\n",
    "    def __init__(self, root_dir, label_csv, is_train=True, tomo_filter=None):\n",
    "        self.root_dir = root_dir\n",
    "        self.label_df = pd.read_csv(label_csv)\n",
    "        self.is_train = is_train\n",
    "        self.transform = None \n",
    "\n",
    "        self.data_info = []\n",
    "\n",
    "        exclude_tomos = {'tomo_003acc', 'tomo_00e047', 'tomo_01a877'}\n",
    "        target_shape = [128, 704, 704] # Define target_shape once\n",
    "        \n",
    "        for tomo_id in sorted(os.listdir(root_dir)):\n",
    "            if is_train and tomo_id in exclude_tomos:\n",
    "                continue\n",
    "            if not is_train and tomo_id not in exclude_tomos:\n",
    "                continue\n",
    "            if tomo_filter is not None and tomo_id not in tomo_filter:\n",
    "                continue\n",
    "\n",
    "            tomo_path = os.path.join(root_dir, tomo_id)\n",
    "            \n",
    "            slices_names = sorted(os.listdir(tomo_path))\n",
    "            if not slices_names: # Skip empty folders\n",
    "                continue\n",
    "\n",
    "            # Load just the first slice to get H, W for calculating zoom factors\n",
    "            first_slice_path = os.path.join(tomo_path, slices_names[0])\n",
    "            first_slice_img = Image.open(first_slice_path)\n",
    "            original_h, original_w = first_slice_img.size\n",
    "            original_d = len(slices_names) # Depth is the number of slices\n",
    "\n",
    "            original_shape = (original_d, original_h, original_w)\n",
    "\n",
    "            zoom_factors = [\n",
    "                target_shape[0] / original_shape[0],\n",
    "                target_shape[1] / original_shape[1],\n",
    "                target_shape[2] / original_shape[2],\n",
    "            ]\n",
    "\n",
    "            # Get GT coordinates \n",
    "            motors = self.label_df[self.label_df['tomo_id'] == tomo_id]\n",
    "            valid = motors[motors['Motor axis 0'] != -1]\n",
    "            coords = valid[['Motor axis 0', 'Motor axis 1', 'Motor axis 2']].values\n",
    "\n",
    "            # Scale coords to resized shape\n",
    "            z_scale, y_scale, x_scale = zoom_factors\n",
    "            scaled_coords = coords * np.array([z_scale, y_scale, x_scale])\n",
    "\n",
    "            if len(scaled_coords) > 0:\n",
    "                label = torch.tensor(scaled_coords, dtype=torch.float32)\n",
    "                has_motor = torch.tensor([1.0], dtype=torch.float32)\n",
    "            else:\n",
    "                label = torch.tensor([[-1, -1, -1]], dtype=torch.float32)\n",
    "                has_motor = torch.tensor([0.0], dtype=torch.float32)\n",
    "            \n",
    "            # Store all necessary info for __getitem__ to load later\n",
    "            self.data_info.append({\n",
    "                'tomo_id': tomo_id,\n",
    "                'tomo_path': tomo_path, # Store path to load slices later\n",
    "                'slices_names': slices_names, # Store slice names for loading order\n",
    "                'original_shape': original_shape,\n",
    "                'zoom_factors': zoom_factors,\n",
    "                'gt_coords': label,\n",
    "                'has_motor': has_motor\n",
    "            })\n",
    "\n",
    "    def __len__(self):\n",
    "        return len(self.data_info)\n",
    "\n",
    "    def __getitem__(self, idx):\n",
    "        info = self.data_info[idx]\n",
    "\n",
    "        # 1. Load volume slices\n",
    "        volume = [np.array(Image.open(os.path.join(info['tomo_path'], s))) for s in info['slices_names']]\n",
    "        volume = np.stack(volume, axis=0)  # [D, H, W]\n",
    "\n",
    "        # 2. Resize\n",
    "        volume_resized = zoom(volume, info['zoom_factors'], order=1)\n",
    "        volume_tensor = torch.tensor(volume_resized).unsqueeze(0).float() / 255.0 # [1, D, H, W]\n",
    "\n",
    "        # Calculate inverse scale factors\n",
    "        original_d, original_h, original_w = info['original_shape']\n",
    "        z_factor, y_factor, x_factor = info['zoom_factors']\n",
    "        inverse_scale = [\n",
    "            original_d / (original_d * z_factor), # which simplifies to 1 / z_factor\n",
    "            original_h / (original_h * y_factor), # which simplifies to 1 / y_factor\n",
    "            original_w / (original_w * x_factor), # which simplifies to 1 / x_factor\n",
    "        ]\n",
    "\n",
    "        return {\n",
    "            'volume': volume_tensor,\n",
    "            'gt_coords': info['gt_coords'],\n",
    "            'has_motor': info['has_motor'],\n",
    "            'tomo_id': info['tomo_id'],\n",
    "            'inverse_scale': inverse_scale\n",
    "        }\n"
   ]
  },
  {
   "cell_type": "code",
   "execution_count": 3,
   "id": "44c77201",
   "metadata": {
    "execution": {
     "iopub.execute_input": "2025-06-11T15:34:47.307448Z",
     "iopub.status.busy": "2025-06-11T15:34:47.307237Z",
     "iopub.status.idle": "2025-06-11T15:34:47.312284Z",
     "shell.execute_reply": "2025-06-11T15:34:47.311605Z"
    },
    "papermill": {
     "duration": 0.008432,
     "end_time": "2025-06-11T15:34:47.313274",
     "exception": false,
     "start_time": "2025-06-11T15:34:47.304842",
     "status": "completed"
    },
    "tags": []
   },
   "outputs": [],
   "source": [
    "# ===================== Model =====================\n",
    "class MotorNet3D(nn.Module):\n",
    "    def __init__(self):\n",
    "        super().__init__()\n",
    "        self.backbone = nn.Sequential(\n",
    "            nn.Conv3d(1, 8, 3, padding=1), nn.ReLU(), nn.MaxPool3d(2),\n",
    "            nn.Conv3d(8, 16, 3, padding=1), nn.ReLU(), nn.MaxPool3d(2),\n",
    "            nn.Conv3d(16, 32, 3, padding=1), nn.ReLU(), nn.AdaptiveAvgPool3d(1)\n",
    "        )\n",
    "        self.fc_coord = nn.Linear(32, 3)  # (z, y, x)\n",
    "        self.fc_conf = nn.Linear(32, 1)\n",
    "\n",
    "    def forward(self, x):  # x: [B, 1, D, H, W]\n",
    "        x = self.backbone(x)\n",
    "        x = x.view(x.size(0), -1)\n",
    "        coords = self.fc_coord(x)  # [B, 3]\n",
    "        conf_logits = self.fc_conf(x) # [B, 1]\n",
    "        return coords, conf_logits"
   ]
  },
  {
   "cell_type": "code",
   "execution_count": 4,
   "id": "738daf84",
   "metadata": {
    "execution": {
     "iopub.execute_input": "2025-06-11T15:34:47.318049Z",
     "iopub.status.busy": "2025-06-11T15:34:47.317487Z",
     "iopub.status.idle": "2025-06-11T15:34:47.322608Z",
     "shell.execute_reply": "2025-06-11T15:34:47.321848Z"
    },
    "papermill": {
     "duration": 0.008614,
     "end_time": "2025-06-11T15:34:47.323664",
     "exception": false,
     "start_time": "2025-06-11T15:34:47.315050",
     "status": "completed"
    },
    "tags": []
   },
   "outputs": [],
   "source": [
    "# ===================== Loss =====================\n",
    "def motor_loss(pred_coord, pred_conf_logits, gt_coords, has_motor, alpha=1.0, beta=2.0):\n",
    "    B = pred_coord.size(0)\n",
    "    device = pred_coord.device\n",
    "    coord_loss = torch.tensor(0.0, device=device)\n",
    "\n",
    "    for i in range(B):\n",
    "        if has_motor[i] == 1:\n",
    "            gt = gt_coords[i].to(device)  # shape: [N, 3]\n",
    "            pred = pred_coord[i]          # shape: [3]\n",
    "            dists = torch.norm(gt - pred.unsqueeze(0), dim=1)\n",
    "            closest = gt[torch.argmin(dists)]\n",
    "            coord_loss += F.mse_loss(pred, closest)\n",
    "\n",
    "    coord_loss = coord_loss / has_motor.sum().clamp(min=1)\n",
    "    conf_loss = F.binary_cross_entropy_with_logits(pred_conf_logits.squeeze(), has_motor.squeeze())\n",
    "    return alpha * coord_loss + beta * conf_loss"
   ]
  },
  {
   "cell_type": "code",
   "execution_count": 5,
   "id": "8ef6f1a6",
   "metadata": {
    "execution": {
     "iopub.execute_input": "2025-06-11T15:34:47.328006Z",
     "iopub.status.busy": "2025-06-11T15:34:47.327803Z",
     "iopub.status.idle": "2025-06-11T21:30:46.194092Z",
     "shell.execute_reply": "2025-06-11T21:30:46.193110Z"
    },
    "papermill": {
     "duration": 21358.870018,
     "end_time": "2025-06-11T21:30:46.195576",
     "exception": false,
     "start_time": "2025-06-11T15:34:47.325558",
     "status": "completed"
    },
    "tags": []
   },
   "outputs": [
    {
     "name": "stdout",
     "output_type": "stream",
     "text": [
      "Number of training batches: 645\n"
     ]
    },
    {
     "name": "stderr",
     "output_type": "stream",
     "text": [
      "100%|██████████| 645/645 [2:06:53<00:00, 11.80s/it]\n"
     ]
    },
    {
     "name": "stdout",
     "output_type": "stream",
     "text": [
      "Epoch 1: Loss = 15998.0991\n"
     ]
    },
    {
     "name": "stderr",
     "output_type": "stream",
     "text": [
      "100%|██████████| 645/645 [1:56:50<00:00, 10.87s/it]\n"
     ]
    },
    {
     "name": "stdout",
     "output_type": "stream",
     "text": [
      "Epoch 2: Loss = 8971.5662\n"
     ]
    },
    {
     "name": "stderr",
     "output_type": "stream",
     "text": [
      "100%|██████████| 645/645 [1:51:47<00:00, 10.40s/it]"
     ]
    },
    {
     "name": "stdout",
     "output_type": "stream",
     "text": [
      "Epoch 3: Loss = 8869.7666\n"
     ]
    },
    {
     "name": "stderr",
     "output_type": "stream",
     "text": [
      "\n"
     ]
    }
   ],
   "source": [
    "# ===================== Run =====================\n",
    "data_root = '/kaggle/input/byu-locating-bacterial-flagellar-motors-2025/train'\n",
    "label_path = '/kaggle/input/byu-locating-bacterial-flagellar-motors-2025/train_labels.csv'\n",
    "device = torch.device('cuda' if torch.cuda.is_available() else 'cpu')\n",
    "\n",
    "train_dataset = MotorVolumeDataset(\n",
    "    root_dir= data_root,\n",
    "    label_csv= label_path,\n",
    "    is_train=True\n",
    ")\n",
    "train_loader = DataLoader(train_dataset, batch_size=1, shuffle=True, pin_memory=True)\n",
    "print(f\"Number of training batches: {len(train_loader)}\")\n",
    "model = MotorNet3D().to(device)\n",
    "optimizer = torch.optim.Adam(model.parameters(), lr=1e-3)\n",
    "scaler = GradScaler()  # for AMP\n",
    "\n",
    "for epoch in range(3):\n",
    "    model.train()\n",
    "    total_loss = 0\n",
    "    for batch in tqdm(train_loader):\n",
    "        x = batch['volume'].to(device)        # [B, 1, D, H, W]\n",
    "        gt_coords = batch['gt_coords']        # [B, N, 3]\n",
    "        has_motor = batch['has_motor'].to(device)\n",
    "\n",
    "        optimizer.zero_grad()\n",
    "        with autocast('cuda' if torch.cuda.is_available() else 'cpu'):\n",
    "            pred_coords, pred_conf = model(x)\n",
    "            loss = motor_loss(pred_coords, pred_conf, gt_coords, has_motor)\n",
    "\n",
    "        scaler.scale(loss).backward()\n",
    "        scaler.step(optimizer)\n",
    "        scaler.update()\n",
    "        total_loss += loss.item()\n",
    "\n",
    "    print(f\"Epoch {epoch+1}: Loss = {total_loss / len(train_loader):.4f}\")\n",
    "    torch.cuda.empty_cache()\n",
    "torch.save(model.state_dict(), \"motor_net.pth\")"
   ]
  },
  {
   "cell_type": "code",
   "execution_count": 6,
   "id": "213723ea",
   "metadata": {
    "execution": {
     "iopub.execute_input": "2025-06-11T21:30:46.356908Z",
     "iopub.status.busy": "2025-06-11T21:30:46.356038Z",
     "iopub.status.idle": "2025-06-11T21:30:46.584123Z",
     "shell.execute_reply": "2025-06-11T21:30:46.583273Z"
    },
    "papermill": {
     "duration": 0.307406,
     "end_time": "2025-06-11T21:30:46.585617",
     "exception": false,
     "start_time": "2025-06-11T21:30:46.278211",
     "status": "completed"
    },
    "tags": []
   },
   "outputs": [],
   "source": [
    "# Path to the test data folder and label CSV file\n",
    "test_root_dir = '/kaggle/input/byu-locating-bacterial-flagellar-motors-2025/test'        \n",
    "label_csv = '/kaggle/input/byu-locating-bacterial-flagellar-motors-2025/train_labels.csv'   \n",
    "\n",
    "# Initialize the test dataset, note is_train=False so it loads only test tomos\n",
    "test_dataset = MotorVolumeDataset(\n",
    "    root_dir=test_root_dir,\n",
    "    label_csv=label_csv,\n",
    "    is_train=False,    # load only test tomos\n",
    "    tomo_filter=None   \n",
    ")\n",
    "\n",
    "# Create DataLoader with batch_size=1, since volumes are large\n",
    "test_loader = DataLoader(\n",
    "    test_dataset,\n",
    "    batch_size=1,\n",
    "    shuffle=False,\n",
    "    pin_memory=True\n",
    ")"
   ]
  },
  {
   "cell_type": "code",
   "execution_count": 7,
   "id": "67006774",
   "metadata": {
    "execution": {
     "iopub.execute_input": "2025-06-11T21:30:46.751201Z",
     "iopub.status.busy": "2025-06-11T21:30:46.750389Z",
     "iopub.status.idle": "2025-06-11T21:31:28.768516Z",
     "shell.execute_reply": "2025-06-11T21:31:28.767795Z"
    },
    "papermill": {
     "duration": 42.095064,
     "end_time": "2025-06-11T21:31:28.769650",
     "exception": false,
     "start_time": "2025-06-11T21:30:46.674586",
     "status": "completed"
    },
    "tags": []
   },
   "outputs": [
    {
     "name": "stderr",
     "output_type": "stream",
     "text": [
      "100%|██████████| 3/3 [00:41<00:00, 13.98s/it]\n"
     ]
    }
   ],
   "source": [
    "submission_rows = []\n",
    "\n",
    "model.eval()\n",
    "with torch.no_grad():\n",
    "    for batch in tqdm(test_loader):\n",
    "        volume = batch['volume'].to(device)           # [1, 1, D, H, W]\n",
    "        tomo_ids = batch['tomo_id']                    # list of length 1\n",
    "\n",
    "        pred_coord, pred_conf = model(volume)          # [1, 3], [1, 1]\n",
    "        pred_coord = pred_coord.cpu().squeeze().numpy()\n",
    "        pred_conf = pred_conf.cpu().item()\n",
    "\n",
    "        inverse_scale = batch['inverse_scale'] \n",
    "        original_pred_coord = pred_coord * np.array([s.item() for s in inverse_scale])\n",
    "\n",
    "        # If confidence is low, predict -1\n",
    "        if pred_conf < 0.5:\n",
    "          original_pred_coord = [-1, -1, -1]\n",
    "            \n",
    "\n",
    "        submission_rows.append({\n",
    "            'tomo_id': tomo_ids[0],\n",
    "            'Motor axis 0': original_pred_coord[0],\n",
    "            'Motor axis 1': original_pred_coord[1],\n",
    "            'Motor axis 2': original_pred_coord[2],\n",
    "         })\n",
    "\n",
    "submission_df = pd.DataFrame(submission_rows)\n",
    "submission_df.to_csv('submission.csv', index=False)"
   ]
  },
  {
   "cell_type": "code",
   "execution_count": 8,
   "id": "f269b55f",
   "metadata": {
    "execution": {
     "iopub.execute_input": "2025-06-11T21:31:28.923470Z",
     "iopub.status.busy": "2025-06-11T21:31:28.923011Z",
     "iopub.status.idle": "2025-06-11T21:31:28.927657Z",
     "shell.execute_reply": "2025-06-11T21:31:28.927180Z"
    },
    "papermill": {
     "duration": 0.081473,
     "end_time": "2025-06-11T21:31:28.928679",
     "exception": false,
     "start_time": "2025-06-11T21:31:28.847206",
     "status": "completed"
    },
    "tags": []
   },
   "outputs": [],
   "source": [
    "submission = pd.read_csv('/kaggle/working/submission.csv')"
   ]
  },
  {
   "cell_type": "code",
   "execution_count": 9,
   "id": "ef0af324",
   "metadata": {
    "execution": {
     "iopub.execute_input": "2025-06-11T21:31:29.077742Z",
     "iopub.status.busy": "2025-06-11T21:31:29.077561Z",
     "iopub.status.idle": "2025-06-11T21:31:29.095638Z",
     "shell.execute_reply": "2025-06-11T21:31:29.095077Z"
    },
    "papermill": {
     "duration": 0.094119,
     "end_time": "2025-06-11T21:31:29.096617",
     "exception": false,
     "start_time": "2025-06-11T21:31:29.002498",
     "status": "completed"
    },
    "tags": []
   },
   "outputs": [
    {
     "data": {
      "text/html": [
       "<div>\n",
       "<style scoped>\n",
       "    .dataframe tbody tr th:only-of-type {\n",
       "        vertical-align: middle;\n",
       "    }\n",
       "\n",
       "    .dataframe tbody tr th {\n",
       "        vertical-align: top;\n",
       "    }\n",
       "\n",
       "    .dataframe thead th {\n",
       "        text-align: right;\n",
       "    }\n",
       "</style>\n",
       "<table border=\"1\" class=\"dataframe\">\n",
       "  <thead>\n",
       "    <tr style=\"text-align: right;\">\n",
       "      <th></th>\n",
       "      <th>tomo_id</th>\n",
       "      <th>Motor axis 0</th>\n",
       "      <th>Motor axis 1</th>\n",
       "      <th>Motor axis 2</th>\n",
       "    </tr>\n",
       "  </thead>\n",
       "  <tbody>\n",
       "    <tr>\n",
       "      <th>0</th>\n",
       "      <td>tomo_003acc</td>\n",
       "      <td>-1</td>\n",
       "      <td>-1</td>\n",
       "      <td>-1</td>\n",
       "    </tr>\n",
       "    <tr>\n",
       "      <th>1</th>\n",
       "      <td>tomo_00e047</td>\n",
       "      <td>-1</td>\n",
       "      <td>-1</td>\n",
       "      <td>-1</td>\n",
       "    </tr>\n",
       "    <tr>\n",
       "      <th>2</th>\n",
       "      <td>tomo_01a877</td>\n",
       "      <td>-1</td>\n",
       "      <td>-1</td>\n",
       "      <td>-1</td>\n",
       "    </tr>\n",
       "  </tbody>\n",
       "</table>\n",
       "</div>"
      ],
      "text/plain": [
       "       tomo_id  Motor axis 0  Motor axis 1  Motor axis 2\n",
       "0  tomo_003acc            -1            -1            -1\n",
       "1  tomo_00e047            -1            -1            -1\n",
       "2  tomo_01a877            -1            -1            -1"
      ]
     },
     "execution_count": 9,
     "metadata": {},
     "output_type": "execute_result"
    }
   ],
   "source": [
    "submission"
   ]
  }
 ],
 "metadata": {
  "kaggle": {
   "accelerator": "nvidiaTeslaT4",
   "dataSources": [
    {
     "databundleVersionId": 11294684,
     "sourceId": 91249,
     "sourceType": "competition"
    }
   ],
   "dockerImageVersionId": 31041,
   "isGpuEnabled": true,
   "isInternetEnabled": true,
   "language": "python",
   "sourceType": "notebook"
  },
  "kernelspec": {
   "display_name": "Python 3",
   "language": "python",
   "name": "python3"
  },
  "language_info": {
   "codemirror_mode": {
    "name": "ipython",
    "version": 3
   },
   "file_extension": ".py",
   "mimetype": "text/x-python",
   "name": "python",
   "nbconvert_exporter": "python",
   "pygments_lexer": "ipython3",
   "version": "3.11.11"
  },
  "papermill": {
   "default_parameters": {},
   "duration": 21416.489134,
   "end_time": "2025-06-11T21:31:32.290392",
   "environment_variables": {},
   "exception": null,
   "input_path": "__notebook__.ipynb",
   "output_path": "__notebook__.ipynb",
   "parameters": {},
   "start_time": "2025-06-11T15:34:35.801258",
   "version": "2.6.0"
  }
 },
 "nbformat": 4,
 "nbformat_minor": 5
}
