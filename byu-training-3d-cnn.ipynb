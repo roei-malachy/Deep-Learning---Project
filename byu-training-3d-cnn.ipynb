{
 "cells": [
  {
   "cell_type": "code",
   "execution_count": 20,
   "id": "218d9e90",
   "metadata": {
    "_cell_guid": "b1076dfc-b9ad-4769-8c92-a6c4dae69d19",
    "_uuid": "8f2839f25d086af736a60e9eeb907d3b93b6e0e5",
    "execution": {
     "iopub.execute_input": "2025-06-11T15:34:40.068945Z",
     "iopub.status.busy": "2025-06-11T15:34:40.068426Z",
     "iopub.status.idle": "2025-06-11T15:34:47.283139Z",
     "shell.execute_reply": "2025-06-11T15:34:47.282524Z"
    },
    "papermill": {
     "duration": 7.219334,
     "end_time": "2025-06-11T15:34:47.284515",
     "exception": false,
     "start_time": "2025-06-11T15:34:40.065181",
     "status": "completed"
    },
    "tags": []
   },
   "outputs": [],
   "source": [
    "import os\n",
    "import torch\n",
    "import torch.nn as nn\n",
    "import torch.nn.functional as F\n",
    "from torch.utils.data import Dataset, DataLoader\n",
    "import pandas as pd\n",
    "import numpy as np\n",
    "from PIL import Image\n",
    "from scipy.ndimage import zoom\n",
    "from torch.amp import autocast, GradScaler\n",
    "from sklearn.metrics import fbeta_score\n",
    "from tqdm import tqdm"
   ]
  },
  {
   "cell_type": "code",
   "execution_count": 21,
   "id": "f1947796",
   "metadata": {
    "execution": {
     "iopub.execute_input": "2025-06-11T15:34:47.290471Z",
     "iopub.status.busy": "2025-06-11T15:34:47.289893Z",
     "iopub.status.idle": "2025-06-11T15:34:47.301589Z",
     "shell.execute_reply": "2025-06-11T15:34:47.300834Z"
    },
    "papermill": {
     "duration": 0.015685,
     "end_time": "2025-06-11T15:34:47.302728",
     "exception": false,
     "start_time": "2025-06-11T15:34:47.287043",
     "status": "completed"
    },
    "tags": []
   },
   "outputs": [],
   "source": [
    "class MotorVolumeDataset(Dataset):\n",
    "    def __init__(self, root_dir, label_csv, is_train=True, tomo_filter=None):\n",
    "        self.root_dir = root_dir\n",
    "        self.label_df = pd.read_csv(label_csv)\n",
    "        self.is_train = is_train\n",
    "        self.transform = None\n",
    "        self.target_shape = [128, 704, 704]\n",
    "\n",
    "        self.data_info = self._gather_data_info(tomo_filter)\n",
    "\n",
    "\n",
    "    def _gather_data_info(self, tomo_filter):\n",
    "        data_info = []\n",
    "        exclude_tomos = {'tomo_003acc', 'tomo_00e047', 'tomo_01a877'}\n",
    "\n",
    "        for tomo_id in sorted(os.listdir(self.root_dir)):\n",
    "            if self.is_train and tomo_id in exclude_tomos:\n",
    "                continue\n",
    "            if not self.is_train and tomo_id not in exclude_tomos:\n",
    "                continue\n",
    "            if tomo_filter is not None and tomo_id not in tomo_filter:\n",
    "                continue\n",
    "\n",
    "            tomo_path = os.path.join(self.root_dir, tomo_id)\n",
    "            slices_names = sorted(os.listdir(tomo_path))\n",
    "            if not slices_names:\n",
    "                continue\n",
    "\n",
    "            first_slice = Image.open(os.path.join(tomo_path, slices_names[0]))\n",
    "            original_h, original_w = first_slice.size\n",
    "            original_d = len(slices_names)\n",
    "            original_shape = (original_d, original_h, original_w)\n",
    "\n",
    "            zoom_factors = [\n",
    "                self.target_shape[0] / original_d,\n",
    "                self.target_shape[1] / original_h,\n",
    "                self.target_shape[2] / original_w,\n",
    "            ]\n",
    "\n",
    "            motors = self.label_df[self.label_df['tomo_id'] == tomo_id]\n",
    "            valid = motors[motors['Motor axis 0'] != -1]\n",
    "            coords = valid[['Motor axis 0', 'Motor axis 1', 'Motor axis 2']].values\n",
    "            scaled_coords = coords * np.array(zoom_factors)\n",
    "\n",
    "            label = (\n",
    "                torch.tensor(scaled_coords, dtype=torch.float32)\n",
    "                if len(scaled_coords) > 0\n",
    "                else torch.tensor([[-1, -1, -1]], dtype=torch.float32)\n",
    "            )\n",
    "            has_motor = torch.tensor([1.0 if len(scaled_coords) > 0 else 0.0], dtype=torch.float32)\n",
    "\n",
    "            data_info.append({\n",
    "                'tomo_id': tomo_id,\n",
    "                'tomo_path': tomo_path,\n",
    "                'slices_names': slices_names,\n",
    "                'original_shape': original_shape,\n",
    "                'zoom_factors': zoom_factors,\n",
    "                'gt_coords': label,\n",
    "                'has_motor': has_motor,\n",
    "            })\n",
    "\n",
    "        return data_info\n",
    "\n",
    "\n",
    "    def __len__(self):\n",
    "        return len(self.data_info)\n",
    "\n",
    "    def __getitem__(self, idx):\n",
    "        info = self.data_info[idx]\n",
    "\n",
    "        # 1. Load volume slices\n",
    "        volume = [np.array(Image.open(os.path.join(info['tomo_path'], s))) for s in info['slices_names']]\n",
    "        volume = np.stack(volume, axis=0)  # [D, H, W]\n",
    "\n",
    "        # 2. Resize\n",
    "        volume_resized = zoom(volume, info['zoom_factors'], order=0)\n",
    "        volume_resized = self.pad_or_crop(volume_resized, self.target_shape)\n",
    "        volume_tensor = torch.tensor(volume_resized).unsqueeze(0).float() / 255.0  # [1, D, H, W]\n",
    "\n",
    "\n",
    "        # Calculate inverse scale factors\n",
    "        original_d, original_h, original_w = info['original_shape']\n",
    "        z_factor, y_factor, x_factor = info['zoom_factors']\n",
    "        inverse_scale = [\n",
    "            original_d / (original_d * z_factor), # which simplifies to 1 / z_factor\n",
    "            original_h / (original_h * y_factor), # which simplifies to 1 / y_factor\n",
    "            original_w / (original_w * x_factor), # which simplifies to 1 / x_factor\n",
    "        ]\n",
    "\n",
    "        return {\n",
    "            'volume': volume_tensor,\n",
    "            'gt_coords': info['gt_coords'],\n",
    "            'has_motor': info['has_motor'],\n",
    "            'tomo_id': info['tomo_id'],\n",
    "            'inverse_scale': inverse_scale\n",
    "        }\n",
    "    def pad_or_crop(self, volume, target_shape):\n",
    "        \"\"\"Pad or crop a 3D volume to match the target shape.\"\"\"\n",
    "        result = np.zeros(target_shape, dtype=volume.dtype)\n",
    "        min_d = min(volume.shape[0], target_shape[0])\n",
    "        min_h = min(volume.shape[1], target_shape[1])\n",
    "        min_w = min(volume.shape[2], target_shape[2])\n",
    "        \n",
    "        result[:min_d, :min_h, :min_w] = volume[:min_d, :min_h, :min_w]\n",
    "        return result\n"
   ]
  },
  {
   "cell_type": "code",
   "execution_count": 22,
   "id": "44c77201",
   "metadata": {
    "execution": {
     "iopub.execute_input": "2025-06-11T15:34:47.307448Z",
     "iopub.status.busy": "2025-06-11T15:34:47.307237Z",
     "iopub.status.idle": "2025-06-11T15:34:47.312284Z",
     "shell.execute_reply": "2025-06-11T15:34:47.311605Z"
    },
    "papermill": {
     "duration": 0.008432,
     "end_time": "2025-06-11T15:34:47.313274",
     "exception": false,
     "start_time": "2025-06-11T15:34:47.304842",
     "status": "completed"
    },
    "tags": []
   },
   "outputs": [],
   "source": [
    "# ===================== Model =====================\n",
    "class MotorNet3D(nn.Module):\n",
    "    def __init__(self):\n",
    "        super().__init__()\n",
    "        self.backbone = nn.Sequential(\n",
    "            nn.Conv3d(1, 8, 3, padding=1), nn.ReLU(), nn.MaxPool3d(2),\n",
    "            nn.Conv3d(8, 16, 3, padding=1), nn.ReLU(), nn.MaxPool3d(2),\n",
    "            nn.Conv3d(16, 32, 3, padding=1), nn.ReLU(), nn.AdaptiveAvgPool3d(1)\n",
    "        )\n",
    "        self.fc_coord = nn.Linear(32, 3)  # (z, y, x)\n",
    "        self.fc_conf = nn.Linear(32, 1)\n",
    "\n",
    "    def forward(self, x):  # x: [B, 1, D, H, W]\n",
    "        x = self.backbone(x)\n",
    "        x = x.view(x.size(0), -1)\n",
    "        coords = self.fc_coord(x)  # [B, 3]\n",
    "        conf_logits = self.fc_conf(x) # [B, 1]\n",
    "        return coords, conf_logits"
   ]
  },
  {
   "cell_type": "code",
   "execution_count": 23,
   "id": "738daf84",
   "metadata": {
    "execution": {
     "iopub.execute_input": "2025-06-11T15:34:47.318049Z",
     "iopub.status.busy": "2025-06-11T15:34:47.317487Z",
     "iopub.status.idle": "2025-06-11T15:34:47.322608Z",
     "shell.execute_reply": "2025-06-11T15:34:47.321848Z"
    },
    "papermill": {
     "duration": 0.008614,
     "end_time": "2025-06-11T15:34:47.323664",
     "exception": false,
     "start_time": "2025-06-11T15:34:47.315050",
     "status": "completed"
    },
    "tags": []
   },
   "outputs": [],
   "source": [
    "# ===================== Loss =====================\n",
    "def motor_loss(pred_coord, pred_conf_logits, gt_coords, has_motor, alpha=1.0, beta=2.0):\n",
    "    B = pred_coord.size(0)\n",
    "    device = pred_coord.device\n",
    "    coord_loss = torch.tensor(0.0, device=device)\n",
    "\n",
    "    for i in range(B):\n",
    "        if has_motor[i] == 1:\n",
    "            gt = gt_coords[i].to(device)  # shape: [N, 3]\n",
    "            pred = pred_coord[i]          # shape: [3]\n",
    "            dists = torch.norm(gt - pred.unsqueeze(0), dim=1)\n",
    "            closest = gt[torch.argmin(dists)]\n",
    "            coord_loss += F.mse_loss(pred, closest)\n",
    "\n",
    "    coord_loss = coord_loss / has_motor.sum().clamp(min=1)\n",
    "    conf_loss = F.binary_cross_entropy_with_logits(pred_conf_logits.squeeze(), has_motor.squeeze())\n",
    "    return alpha * coord_loss + beta * conf_loss"
   ]
  },
  {
   "cell_type": "code",
   "execution_count": 24,
   "id": "8ef6f1a6",
   "metadata": {
    "execution": {
     "iopub.execute_input": "2025-06-11T15:34:47.328006Z",
     "iopub.status.busy": "2025-06-11T15:34:47.327803Z",
     "iopub.status.idle": "2025-06-11T21:30:46.194092Z",
     "shell.execute_reply": "2025-06-11T21:30:46.193110Z"
    },
    "papermill": {
     "duration": 21358.870018,
     "end_time": "2025-06-11T21:30:46.195576",
     "exception": false,
     "start_time": "2025-06-11T15:34:47.325558",
     "status": "completed"
    },
    "tags": []
   },
   "outputs": [
    {
     "name": "stdout",
     "output_type": "stream",
     "text": [
      "Number of training batches: 645\n"
     ]
    },
    {
     "name": "stderr",
     "output_type": "stream",
     "text": [
      " 87%|████████▋ | 563/645 [56:17<08:11,  6.00s/it]  \n"
     ]
    },
    {
     "ename": "KeyboardInterrupt",
     "evalue": "",
     "output_type": "error",
     "traceback": [
      "\u001b[0;31m---------------------------------------------------------------------------\u001b[0m",
      "\u001b[0;31mKeyboardInterrupt\u001b[0m                         Traceback (most recent call last)",
      "Cell \u001b[0;32mIn[24], line 20\u001b[0m\n\u001b[1;32m     18\u001b[0m model\u001b[38;5;241m.\u001b[39mtrain()\n\u001b[1;32m     19\u001b[0m total_loss \u001b[38;5;241m=\u001b[39m \u001b[38;5;241m0\u001b[39m\n\u001b[0;32m---> 20\u001b[0m \u001b[38;5;28;01mfor\u001b[39;00m batch \u001b[38;5;129;01min\u001b[39;00m tqdm(train_loader):\n\u001b[1;32m     21\u001b[0m     x \u001b[38;5;241m=\u001b[39m batch[\u001b[38;5;124m'\u001b[39m\u001b[38;5;124mvolume\u001b[39m\u001b[38;5;124m'\u001b[39m]\u001b[38;5;241m.\u001b[39mto(device)        \u001b[38;5;66;03m# [B, 1, D, H, W]\u001b[39;00m\n\u001b[1;32m     22\u001b[0m     gt_coords \u001b[38;5;241m=\u001b[39m batch[\u001b[38;5;124m'\u001b[39m\u001b[38;5;124mgt_coords\u001b[39m\u001b[38;5;124m'\u001b[39m]        \u001b[38;5;66;03m# [B, N, 3]\u001b[39;00m\n",
      "File \u001b[0;32m~/.conda/envs/byu_env/lib/python3.10/site-packages/tqdm/std.py:1181\u001b[0m, in \u001b[0;36mtqdm.__iter__\u001b[0;34m(self)\u001b[0m\n\u001b[1;32m   1178\u001b[0m time \u001b[38;5;241m=\u001b[39m \u001b[38;5;28mself\u001b[39m\u001b[38;5;241m.\u001b[39m_time\n\u001b[1;32m   1180\u001b[0m \u001b[38;5;28;01mtry\u001b[39;00m:\n\u001b[0;32m-> 1181\u001b[0m     \u001b[38;5;28;01mfor\u001b[39;00m obj \u001b[38;5;129;01min\u001b[39;00m iterable:\n\u001b[1;32m   1182\u001b[0m         \u001b[38;5;28;01myield\u001b[39;00m obj\n\u001b[1;32m   1183\u001b[0m         \u001b[38;5;66;03m# Update and possibly print the progressbar.\u001b[39;00m\n\u001b[1;32m   1184\u001b[0m         \u001b[38;5;66;03m# Note: does not call self.update(1) for speed optimisation.\u001b[39;00m\n",
      "File \u001b[0;32m~/.conda/envs/byu_env/lib/python3.10/site-packages/torch/utils/data/dataloader.py:733\u001b[0m, in \u001b[0;36m_BaseDataLoaderIter.__next__\u001b[0;34m(self)\u001b[0m\n\u001b[1;32m    730\u001b[0m \u001b[38;5;28;01mif\u001b[39;00m \u001b[38;5;28mself\u001b[39m\u001b[38;5;241m.\u001b[39m_sampler_iter \u001b[38;5;129;01mis\u001b[39;00m \u001b[38;5;28;01mNone\u001b[39;00m:\n\u001b[1;32m    731\u001b[0m     \u001b[38;5;66;03m# TODO(https://github.com/pytorch/pytorch/issues/76750)\u001b[39;00m\n\u001b[1;32m    732\u001b[0m     \u001b[38;5;28mself\u001b[39m\u001b[38;5;241m.\u001b[39m_reset()  \u001b[38;5;66;03m# type: ignore[call-arg]\u001b[39;00m\n\u001b[0;32m--> 733\u001b[0m data \u001b[38;5;241m=\u001b[39m \u001b[38;5;28;43mself\u001b[39;49m\u001b[38;5;241;43m.\u001b[39;49m\u001b[43m_next_data\u001b[49m\u001b[43m(\u001b[49m\u001b[43m)\u001b[49m\n\u001b[1;32m    734\u001b[0m \u001b[38;5;28mself\u001b[39m\u001b[38;5;241m.\u001b[39m_num_yielded \u001b[38;5;241m+\u001b[39m\u001b[38;5;241m=\u001b[39m \u001b[38;5;241m1\u001b[39m\n\u001b[1;32m    735\u001b[0m \u001b[38;5;28;01mif\u001b[39;00m (\n\u001b[1;32m    736\u001b[0m     \u001b[38;5;28mself\u001b[39m\u001b[38;5;241m.\u001b[39m_dataset_kind \u001b[38;5;241m==\u001b[39m _DatasetKind\u001b[38;5;241m.\u001b[39mIterable\n\u001b[1;32m    737\u001b[0m     \u001b[38;5;129;01mand\u001b[39;00m \u001b[38;5;28mself\u001b[39m\u001b[38;5;241m.\u001b[39m_IterableDataset_len_called \u001b[38;5;129;01mis\u001b[39;00m \u001b[38;5;129;01mnot\u001b[39;00m \u001b[38;5;28;01mNone\u001b[39;00m\n\u001b[1;32m    738\u001b[0m     \u001b[38;5;129;01mand\u001b[39;00m \u001b[38;5;28mself\u001b[39m\u001b[38;5;241m.\u001b[39m_num_yielded \u001b[38;5;241m>\u001b[39m \u001b[38;5;28mself\u001b[39m\u001b[38;5;241m.\u001b[39m_IterableDataset_len_called\n\u001b[1;32m    739\u001b[0m ):\n",
      "File \u001b[0;32m~/.conda/envs/byu_env/lib/python3.10/site-packages/torch/utils/data/dataloader.py:789\u001b[0m, in \u001b[0;36m_SingleProcessDataLoaderIter._next_data\u001b[0;34m(self)\u001b[0m\n\u001b[1;32m    787\u001b[0m \u001b[38;5;28;01mdef\u001b[39;00m\u001b[38;5;250m \u001b[39m\u001b[38;5;21m_next_data\u001b[39m(\u001b[38;5;28mself\u001b[39m):\n\u001b[1;32m    788\u001b[0m     index \u001b[38;5;241m=\u001b[39m \u001b[38;5;28mself\u001b[39m\u001b[38;5;241m.\u001b[39m_next_index()  \u001b[38;5;66;03m# may raise StopIteration\u001b[39;00m\n\u001b[0;32m--> 789\u001b[0m     data \u001b[38;5;241m=\u001b[39m \u001b[38;5;28;43mself\u001b[39;49m\u001b[38;5;241;43m.\u001b[39;49m\u001b[43m_dataset_fetcher\u001b[49m\u001b[38;5;241;43m.\u001b[39;49m\u001b[43mfetch\u001b[49m\u001b[43m(\u001b[49m\u001b[43mindex\u001b[49m\u001b[43m)\u001b[49m  \u001b[38;5;66;03m# may raise StopIteration\u001b[39;00m\n\u001b[1;32m    790\u001b[0m     \u001b[38;5;28;01mif\u001b[39;00m \u001b[38;5;28mself\u001b[39m\u001b[38;5;241m.\u001b[39m_pin_memory:\n\u001b[1;32m    791\u001b[0m         data \u001b[38;5;241m=\u001b[39m _utils\u001b[38;5;241m.\u001b[39mpin_memory\u001b[38;5;241m.\u001b[39mpin_memory(data, \u001b[38;5;28mself\u001b[39m\u001b[38;5;241m.\u001b[39m_pin_memory_device)\n",
      "File \u001b[0;32m~/.conda/envs/byu_env/lib/python3.10/site-packages/torch/utils/data/_utils/fetch.py:52\u001b[0m, in \u001b[0;36m_MapDatasetFetcher.fetch\u001b[0;34m(self, possibly_batched_index)\u001b[0m\n\u001b[1;32m     50\u001b[0m         data \u001b[38;5;241m=\u001b[39m \u001b[38;5;28mself\u001b[39m\u001b[38;5;241m.\u001b[39mdataset\u001b[38;5;241m.\u001b[39m__getitems__(possibly_batched_index)\n\u001b[1;32m     51\u001b[0m     \u001b[38;5;28;01melse\u001b[39;00m:\n\u001b[0;32m---> 52\u001b[0m         data \u001b[38;5;241m=\u001b[39m [\u001b[38;5;28mself\u001b[39m\u001b[38;5;241m.\u001b[39mdataset[idx] \u001b[38;5;28;01mfor\u001b[39;00m idx \u001b[38;5;129;01min\u001b[39;00m possibly_batched_index]\n\u001b[1;32m     53\u001b[0m \u001b[38;5;28;01melse\u001b[39;00m:\n\u001b[1;32m     54\u001b[0m     data \u001b[38;5;241m=\u001b[39m \u001b[38;5;28mself\u001b[39m\u001b[38;5;241m.\u001b[39mdataset[possibly_batched_index]\n",
      "File \u001b[0;32m~/.conda/envs/byu_env/lib/python3.10/site-packages/torch/utils/data/_utils/fetch.py:52\u001b[0m, in \u001b[0;36m<listcomp>\u001b[0;34m(.0)\u001b[0m\n\u001b[1;32m     50\u001b[0m         data \u001b[38;5;241m=\u001b[39m \u001b[38;5;28mself\u001b[39m\u001b[38;5;241m.\u001b[39mdataset\u001b[38;5;241m.\u001b[39m__getitems__(possibly_batched_index)\n\u001b[1;32m     51\u001b[0m     \u001b[38;5;28;01melse\u001b[39;00m:\n\u001b[0;32m---> 52\u001b[0m         data \u001b[38;5;241m=\u001b[39m [\u001b[38;5;28;43mself\u001b[39;49m\u001b[38;5;241;43m.\u001b[39;49m\u001b[43mdataset\u001b[49m\u001b[43m[\u001b[49m\u001b[43midx\u001b[49m\u001b[43m]\u001b[49m \u001b[38;5;28;01mfor\u001b[39;00m idx \u001b[38;5;129;01min\u001b[39;00m possibly_batched_index]\n\u001b[1;32m     53\u001b[0m \u001b[38;5;28;01melse\u001b[39;00m:\n\u001b[1;32m     54\u001b[0m     data \u001b[38;5;241m=\u001b[39m \u001b[38;5;28mself\u001b[39m\u001b[38;5;241m.\u001b[39mdataset[possibly_batched_index]\n",
      "Cell \u001b[0;32mIn[21], line 72\u001b[0m, in \u001b[0;36mMotorVolumeDataset.__getitem__\u001b[0;34m(self, idx)\u001b[0m\n\u001b[1;32m     69\u001b[0m info \u001b[38;5;241m=\u001b[39m \u001b[38;5;28mself\u001b[39m\u001b[38;5;241m.\u001b[39mdata_info[idx]\n\u001b[1;32m     71\u001b[0m \u001b[38;5;66;03m# 1. Load volume slices\u001b[39;00m\n\u001b[0;32m---> 72\u001b[0m volume \u001b[38;5;241m=\u001b[39m [np\u001b[38;5;241m.\u001b[39marray(Image\u001b[38;5;241m.\u001b[39mopen(os\u001b[38;5;241m.\u001b[39mpath\u001b[38;5;241m.\u001b[39mjoin(info[\u001b[38;5;124m'\u001b[39m\u001b[38;5;124mtomo_path\u001b[39m\u001b[38;5;124m'\u001b[39m], s))) \u001b[38;5;28;01mfor\u001b[39;00m s \u001b[38;5;129;01min\u001b[39;00m info[\u001b[38;5;124m'\u001b[39m\u001b[38;5;124mslices_names\u001b[39m\u001b[38;5;124m'\u001b[39m]]\n\u001b[1;32m     73\u001b[0m volume \u001b[38;5;241m=\u001b[39m np\u001b[38;5;241m.\u001b[39mstack(volume, axis\u001b[38;5;241m=\u001b[39m\u001b[38;5;241m0\u001b[39m)  \u001b[38;5;66;03m# [D, H, W]\u001b[39;00m\n\u001b[1;32m     75\u001b[0m \u001b[38;5;66;03m# 2. Resize\u001b[39;00m\n",
      "Cell \u001b[0;32mIn[21], line 72\u001b[0m, in \u001b[0;36m<listcomp>\u001b[0;34m(.0)\u001b[0m\n\u001b[1;32m     69\u001b[0m info \u001b[38;5;241m=\u001b[39m \u001b[38;5;28mself\u001b[39m\u001b[38;5;241m.\u001b[39mdata_info[idx]\n\u001b[1;32m     71\u001b[0m \u001b[38;5;66;03m# 1. Load volume slices\u001b[39;00m\n\u001b[0;32m---> 72\u001b[0m volume \u001b[38;5;241m=\u001b[39m [\u001b[43mnp\u001b[49m\u001b[38;5;241;43m.\u001b[39;49m\u001b[43marray\u001b[49m\u001b[43m(\u001b[49m\u001b[43mImage\u001b[49m\u001b[38;5;241;43m.\u001b[39;49m\u001b[43mopen\u001b[49m\u001b[43m(\u001b[49m\u001b[43mos\u001b[49m\u001b[38;5;241;43m.\u001b[39;49m\u001b[43mpath\u001b[49m\u001b[38;5;241;43m.\u001b[39;49m\u001b[43mjoin\u001b[49m\u001b[43m(\u001b[49m\u001b[43minfo\u001b[49m\u001b[43m[\u001b[49m\u001b[38;5;124;43m'\u001b[39;49m\u001b[38;5;124;43mtomo_path\u001b[39;49m\u001b[38;5;124;43m'\u001b[39;49m\u001b[43m]\u001b[49m\u001b[43m,\u001b[49m\u001b[43m \u001b[49m\u001b[43ms\u001b[49m\u001b[43m)\u001b[49m\u001b[43m)\u001b[49m\u001b[43m)\u001b[49m \u001b[38;5;28;01mfor\u001b[39;00m s \u001b[38;5;129;01min\u001b[39;00m info[\u001b[38;5;124m'\u001b[39m\u001b[38;5;124mslices_names\u001b[39m\u001b[38;5;124m'\u001b[39m]]\n\u001b[1;32m     73\u001b[0m volume \u001b[38;5;241m=\u001b[39m np\u001b[38;5;241m.\u001b[39mstack(volume, axis\u001b[38;5;241m=\u001b[39m\u001b[38;5;241m0\u001b[39m)  \u001b[38;5;66;03m# [D, H, W]\u001b[39;00m\n\u001b[1;32m     75\u001b[0m \u001b[38;5;66;03m# 2. Resize\u001b[39;00m\n",
      "File \u001b[0;32m~/.conda/envs/byu_env/lib/python3.10/site-packages/PIL/Image.py:756\u001b[0m, in \u001b[0;36mImage.__array_interface__\u001b[0;34m(self)\u001b[0m\n\u001b[1;32m    754\u001b[0m     new[\u001b[38;5;124m\"\u001b[39m\u001b[38;5;124mdata\u001b[39m\u001b[38;5;124m\"\u001b[39m] \u001b[38;5;241m=\u001b[39m \u001b[38;5;28mself\u001b[39m\u001b[38;5;241m.\u001b[39mtobytes(\u001b[38;5;124m\"\u001b[39m\u001b[38;5;124mraw\u001b[39m\u001b[38;5;124m\"\u001b[39m, \u001b[38;5;124m\"\u001b[39m\u001b[38;5;124mL\u001b[39m\u001b[38;5;124m\"\u001b[39m)\n\u001b[1;32m    755\u001b[0m \u001b[38;5;28;01melse\u001b[39;00m:\n\u001b[0;32m--> 756\u001b[0m     new[\u001b[38;5;124m\"\u001b[39m\u001b[38;5;124mdata\u001b[39m\u001b[38;5;124m\"\u001b[39m] \u001b[38;5;241m=\u001b[39m \u001b[38;5;28;43mself\u001b[39;49m\u001b[38;5;241;43m.\u001b[39;49m\u001b[43mtobytes\u001b[49m\u001b[43m(\u001b[49m\u001b[43m)\u001b[49m\n\u001b[1;32m    757\u001b[0m new[\u001b[38;5;124m\"\u001b[39m\u001b[38;5;124mshape\u001b[39m\u001b[38;5;124m\"\u001b[39m], new[\u001b[38;5;124m\"\u001b[39m\u001b[38;5;124mtypestr\u001b[39m\u001b[38;5;124m\"\u001b[39m] \u001b[38;5;241m=\u001b[39m _conv_type_shape(\u001b[38;5;28mself\u001b[39m)\n\u001b[1;32m    758\u001b[0m \u001b[38;5;28;01mreturn\u001b[39;00m new\n",
      "File \u001b[0;32m~/.conda/envs/byu_env/lib/python3.10/site-packages/PIL/Image.py:805\u001b[0m, in \u001b[0;36mImage.tobytes\u001b[0;34m(self, encoder_name, *args)\u001b[0m\n\u001b[1;32m    802\u001b[0m \u001b[38;5;28;01mif\u001b[39;00m encoder_name \u001b[38;5;241m==\u001b[39m \u001b[38;5;124m\"\u001b[39m\u001b[38;5;124mraw\u001b[39m\u001b[38;5;124m\"\u001b[39m \u001b[38;5;129;01mand\u001b[39;00m encoder_args \u001b[38;5;241m==\u001b[39m ():\n\u001b[1;32m    803\u001b[0m     encoder_args \u001b[38;5;241m=\u001b[39m \u001b[38;5;28mself\u001b[39m\u001b[38;5;241m.\u001b[39mmode\n\u001b[0;32m--> 805\u001b[0m \u001b[38;5;28;43mself\u001b[39;49m\u001b[38;5;241;43m.\u001b[39;49m\u001b[43mload\u001b[49m\u001b[43m(\u001b[49m\u001b[43m)\u001b[49m\n\u001b[1;32m    807\u001b[0m \u001b[38;5;28;01mif\u001b[39;00m \u001b[38;5;28mself\u001b[39m\u001b[38;5;241m.\u001b[39mwidth \u001b[38;5;241m==\u001b[39m \u001b[38;5;241m0\u001b[39m \u001b[38;5;129;01mor\u001b[39;00m \u001b[38;5;28mself\u001b[39m\u001b[38;5;241m.\u001b[39mheight \u001b[38;5;241m==\u001b[39m \u001b[38;5;241m0\u001b[39m:\n\u001b[1;32m    808\u001b[0m     \u001b[38;5;28;01mreturn\u001b[39;00m \u001b[38;5;124mb\u001b[39m\u001b[38;5;124m\"\u001b[39m\u001b[38;5;124m\"\u001b[39m\n",
      "File \u001b[0;32m~/.conda/envs/byu_env/lib/python3.10/site-packages/PIL/ImageFile.py:300\u001b[0m, in \u001b[0;36mImageFile.load\u001b[0;34m(self)\u001b[0m\n\u001b[1;32m    297\u001b[0m         \u001b[38;5;28;01mraise\u001b[39;00m \u001b[38;5;167;01mOSError\u001b[39;00m(msg)\n\u001b[1;32m    299\u001b[0m b \u001b[38;5;241m=\u001b[39m b \u001b[38;5;241m+\u001b[39m s\n\u001b[0;32m--> 300\u001b[0m n, err_code \u001b[38;5;241m=\u001b[39m \u001b[43mdecoder\u001b[49m\u001b[38;5;241;43m.\u001b[39;49m\u001b[43mdecode\u001b[49m\u001b[43m(\u001b[49m\u001b[43mb\u001b[49m\u001b[43m)\u001b[49m\n\u001b[1;32m    301\u001b[0m \u001b[38;5;28;01mif\u001b[39;00m n \u001b[38;5;241m<\u001b[39m \u001b[38;5;241m0\u001b[39m:\n\u001b[1;32m    302\u001b[0m     \u001b[38;5;28;01mbreak\u001b[39;00m\n",
      "\u001b[0;31mKeyboardInterrupt\u001b[0m: "
     ]
    }
   ],
   "source": [
    "# ===================== Run =====================\n",
    "data_root = '/argusdata/users/naamagav/byu/train'\n",
    "label_path = '/argusdata/users/naamagav/byu/train_labels.csv'\n",
    "device = torch.device('cuda' if torch.cuda.is_available() else 'cpu')\n",
    "\n",
    "train_dataset = MotorVolumeDataset(\n",
    "    root_dir= data_root,\n",
    "    label_csv= label_path,\n",
    "    is_train=True\n",
    ")\n",
    "train_loader = DataLoader(train_dataset, batch_size=1, shuffle=True, pin_memory=True)\n",
    "print(f\"Number of training batches: {len(train_loader)}\")\n",
    "model = MotorNet3D().to(device)\n",
    "optimizer = torch.optim.Adam(model.parameters(), lr=1e-3)\n",
    "scaler = GradScaler()  # for AMP\n",
    "\n",
    "for epoch in range(3):\n",
    "    model.train()\n",
    "    total_loss = 0\n",
    "    for batch in tqdm(train_loader):\n",
    "        x = batch['volume'].to(device)        # [B, 1, D, H, W]\n",
    "        gt_coords = batch['gt_coords']        # [B, N, 3]\n",
    "        has_motor = batch['has_motor'].to(device)\n",
    "\n",
    "        optimizer.zero_grad()\n",
    "        with autocast('cuda' if torch.cuda.is_available() else 'cpu'):\n",
    "            pred_coords, pred_conf = model(x)\n",
    "            loss = motor_loss(pred_coords, pred_conf, gt_coords, has_motor)\n",
    "\n",
    "        scaler.scale(loss).backward()\n",
    "        scaler.step(optimizer)\n",
    "        scaler.update()\n",
    "        total_loss += loss.item()\n",
    "\n",
    "    print(f\"Epoch {epoch+1}: Loss = {total_loss / len(train_loader):.4f}\")\n",
    "    torch.cuda.empty_cache()\n",
    "torch.save(model.state_dict(), \"motor_net.pth\")"
   ]
  },
  {
   "cell_type": "code",
   "execution_count": null,
   "id": "213723ea",
   "metadata": {
    "execution": {
     "iopub.execute_input": "2025-06-11T21:30:46.356908Z",
     "iopub.status.busy": "2025-06-11T21:30:46.356038Z",
     "iopub.status.idle": "2025-06-11T21:30:46.584123Z",
     "shell.execute_reply": "2025-06-11T21:30:46.583273Z"
    },
    "papermill": {
     "duration": 0.307406,
     "end_time": "2025-06-11T21:30:46.585617",
     "exception": false,
     "start_time": "2025-06-11T21:30:46.278211",
     "status": "completed"
    },
    "tags": []
   },
   "outputs": [],
   "source": [
    "# Path to the test data folder and label CSV file\n",
    "test_root_dir = '/argusdata/users/naamagav/byu/test'        \n",
    "label_csv = '/argusdata/users/naamagav/byu/train_labels.csv'   \n",
    "\n",
    "# Initialize the test dataset, note is_train=False so it loads only test tomos\n",
    "test_dataset = MotorVolumeDataset(\n",
    "    root_dir=test_root_dir,\n",
    "    label_csv=label_csv,\n",
    "    is_train=False,    # load only test tomos\n",
    "    tomo_filter=None   \n",
    ")\n",
    "\n",
    "# Create DataLoader with batch_size=1, since volumes are large\n",
    "test_loader = DataLoader(\n",
    "    test_dataset,\n",
    "    batch_size=1,\n",
    "    shuffle=False,\n",
    "    pin_memory=True\n",
    ")"
   ]
  },
  {
   "cell_type": "code",
   "execution_count": null,
   "id": "67006774",
   "metadata": {
    "execution": {
     "iopub.execute_input": "2025-06-11T21:30:46.751201Z",
     "iopub.status.busy": "2025-06-11T21:30:46.750389Z",
     "iopub.status.idle": "2025-06-11T21:31:28.768516Z",
     "shell.execute_reply": "2025-06-11T21:31:28.767795Z"
    },
    "papermill": {
     "duration": 42.095064,
     "end_time": "2025-06-11T21:31:28.769650",
     "exception": false,
     "start_time": "2025-06-11T21:30:46.674586",
     "status": "completed"
    },
    "tags": []
   },
   "outputs": [],
   "source": [
    "submission_rows = []\n",
    "\n",
    "model.eval()\n",
    "with torch.no_grad():\n",
    "    for batch in tqdm(test_loader):\n",
    "        volume = batch['volume'].to(device)           # [1, 1, D, H, W]\n",
    "        tomo_ids = batch['tomo_id']                    # list of length 1\n",
    "\n",
    "        pred_coord, pred_conf = model(volume)          # [1, 3], [1, 1]\n",
    "        pred_coord = pred_coord.cpu().squeeze().numpy()\n",
    "        pred_conf = pred_conf.cpu().item()\n",
    "\n",
    "        inverse_scale = batch['inverse_scale'] \n",
    "        original_pred_coord = pred_coord * np.array([s.item() for s in inverse_scale])\n",
    "\n",
    "        # If confidence is low, predict -1\n",
    "        if pred_conf < 0.5:\n",
    "          original_pred_coord = [-1, -1, -1]\n",
    "            \n",
    "\n",
    "        submission_rows.append({\n",
    "            'tomo_id': tomo_ids[0],\n",
    "            'Motor axis 0': original_pred_coord[0],\n",
    "            'Motor axis 1': original_pred_coord[1],\n",
    "            'Motor axis 2': original_pred_coord[2],\n",
    "         })\n",
    "\n",
    "submission_df = pd.DataFrame(submission_rows)\n",
    "submission_df.to_csv('submission.csv', index=False)"
   ]
  },
  {
   "cell_type": "code",
   "execution_count": null,
   "id": "f269b55f",
   "metadata": {
    "execution": {
     "iopub.execute_input": "2025-06-11T21:31:28.923470Z",
     "iopub.status.busy": "2025-06-11T21:31:28.923011Z",
     "iopub.status.idle": "2025-06-11T21:31:28.927657Z",
     "shell.execute_reply": "2025-06-11T21:31:28.927180Z"
    },
    "papermill": {
     "duration": 0.081473,
     "end_time": "2025-06-11T21:31:28.928679",
     "exception": false,
     "start_time": "2025-06-11T21:31:28.847206",
     "status": "completed"
    },
    "tags": []
   },
   "outputs": [],
   "source": [
    "submission = pd.read_csv('submission.csv')"
   ]
  },
  {
   "cell_type": "code",
   "execution_count": null,
   "id": "ef0af324",
   "metadata": {
    "execution": {
     "iopub.execute_input": "2025-06-11T21:31:29.077742Z",
     "iopub.status.busy": "2025-06-11T21:31:29.077561Z",
     "iopub.status.idle": "2025-06-11T21:31:29.095638Z",
     "shell.execute_reply": "2025-06-11T21:31:29.095077Z"
    },
    "papermill": {
     "duration": 0.094119,
     "end_time": "2025-06-11T21:31:29.096617",
     "exception": false,
     "start_time": "2025-06-11T21:31:29.002498",
     "status": "completed"
    },
    "tags": []
   },
   "outputs": [],
   "source": [
    "submission"
   ]
  }
 ],
 "metadata": {
  "kaggle": {
   "accelerator": "nvidiaTeslaT4",
   "dataSources": [
    {
     "databundleVersionId": 11294684,
     "sourceId": 91249,
     "sourceType": "competition"
    }
   ],
   "dockerImageVersionId": 31041,
   "isGpuEnabled": true,
   "isInternetEnabled": true,
   "language": "python",
   "sourceType": "notebook"
  },
  "kernelspec": {
   "display_name": "byu_env",
   "language": "python",
   "name": "python3"
  },
  "language_info": {
   "codemirror_mode": {
    "name": "ipython",
    "version": 3
   },
   "file_extension": ".py",
   "mimetype": "text/x-python",
   "name": "python",
   "nbconvert_exporter": "python",
   "pygments_lexer": "ipython3",
   "version": "3.10.18"
  },
  "papermill": {
   "default_parameters": {},
   "duration": 21416.489134,
   "end_time": "2025-06-11T21:31:32.290392",
   "environment_variables": {},
   "exception": null,
   "input_path": "__notebook__.ipynb",
   "output_path": "__notebook__.ipynb",
   "parameters": {},
   "start_time": "2025-06-11T15:34:35.801258",
   "version": "2.6.0"
  }
 },
 "nbformat": 4,
 "nbformat_minor": 5
}
